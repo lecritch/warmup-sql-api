{
 "cells": [
  {
   "cell_type": "markdown",
   "metadata": {},
   "source": [
    "# SQL and iTunes API\n",
    "\n",
    "![](https://apple-resources.s3.amazonaws.com/medusa/production/images/5e28cacfd01ec800014020f4/en-us-large@1x.png)\n",
    "\n",
    "This morning we will be querying data from the [Chinook Database](https://www.sqlitetutorial.net/sqlite-sample-database/) and collecting new information with the [iTunes API](https://affiliate.itunes.apple.com/resources/documentation/itunes-store-web-service-search-api/)!"
   ]
  },
  {
   "cell_type": "code",
   "execution_count": 1,
   "metadata": {
    "ExecuteTime": {
     "end_time": "2020-05-20T17:48:31.323097Z",
     "start_time": "2020-05-20T17:48:30.446258Z"
    }
   },
   "outputs": [],
   "source": [
    "# SQL Connection and Querying\n",
    "import sqlite3\n",
    "\n",
    "# Data manipulation\n",
    "import pandas as pd\n",
    "\n",
    "# API Connection\n",
    "import requests\n",
    "\n",
    "#for tests\n",
    "from test_background import test_obj_dict, run_test_dict, pkl_dump, run_test"
   ]
  },
  {
   "cell_type": "markdown",
   "metadata": {},
   "source": [
    "The database in stores within the ```data``` folder of this repo as ```chinook.db```\n",
    "\n",
    "\n",
    "<u>In the cell below:</u>\n",
    "1. Open up a connection to ```chinook.db``` and store that connection as ```conn```"
   ]
  },
  {
   "cell_type": "code",
   "execution_count": 3,
   "metadata": {
    "ExecuteTime": {
     "end_time": "2020-05-20T17:48:31.333160Z",
     "start_time": "2020-05-20T17:48:31.330605Z"
    }
   },
   "outputs": [],
   "source": [
    "# Your code here\n",
    "conn = sqlite3.connect('chinook.db')"
   ]
  },
  {
   "cell_type": "markdown",
   "metadata": {},
   "source": [
    "Let's create a function called ```sql_df``` that returns a dataframe of a SQL query.\n",
    "\n",
    "<u>In the cell below:</u>\n",
    "1. Define a function called ```sql_df``` that takes in two parameters ```query```, and ```connection```.\n",
    "2. Return a dataframe from the function using [pd.read_sql](https://pandas.pydata.org/pandas-docs/stable/reference/api/pandas.read_sql.html)"
   ]
  },
  {
   "cell_type": "code",
   "execution_count": 5,
   "metadata": {
    "ExecuteTime": {
     "end_time": "2020-05-20T17:48:31.342240Z",
     "start_time": "2020-05-20T17:48:31.340286Z"
    }
   },
   "outputs": [],
   "source": [
    "# Your code here\n",
    "def sql_df(query, connection):\n",
    "    df = pd.read_sql(query, connection)\n",
    "    return df"
   ]
  },
  {
   "cell_type": "markdown",
   "metadata": {},
   "source": [
    "<img src=schema.png width=700/>"
   ]
  },
  {
   "cell_type": "markdown",
   "metadata": {},
   "source": [
    "**Above is the schema for the Chinook Database.** \n",
    "\n",
    "For this warmup, we will be focusing on the ```tracks```, ```albums```, and ```artists``` tables.\n",
    "\n",
    "We'll start with something simple for our first SQL query. \n",
    "\n",
    "<u>In the cell below:</u>\n",
    "1. Write a SQL query to collect all columns from the ```tracks``` table \n",
    "2. ```LIMIT``` the query to only return two records from the table.\n",
    "3. Run the query through the ```sql_df``` function and save the results as the variable ```first_query```."
   ]
  },
  {
   "cell_type": "code",
   "execution_count": 6,
   "metadata": {
    "ExecuteTime": {
     "end_time": "2020-05-20T17:48:31.350184Z",
     "start_time": "2020-05-20T17:48:31.347822Z"
    }
   },
   "outputs": [],
   "source": [
    "#Your code here\n",
    "QUERY = \"\"\"\n",
    "SELECT *\n",
    "FROM tracks\n",
    "LIMIT 2\n",
    "\"\"\"\n",
    "first_query = sql_df(QUERY, conn)"
   ]
  },
  {
   "cell_type": "markdown",
   "metadata": {},
   "source": [
    "Run the cell below to see if your query returned the correct data!"
   ]
  },
  {
   "cell_type": "code",
   "execution_count": 7,
   "metadata": {
    "ExecuteTime": {
     "end_time": "2020-05-20T17:48:31.471513Z",
     "start_time": "2020-05-20T17:48:31.469315Z"
    }
   },
   "outputs": [
    {
     "data": {
      "text/plain": [
       "'Hey, you did it.  Good job.'"
      ]
     },
     "execution_count": 7,
     "metadata": {},
     "output_type": "execute_result"
    }
   ],
   "source": [
    "run_test(first_query, 'first_query')"
   ]
  },
  {
   "cell_type": "markdown",
   "metadata": {},
   "source": [
    "**Ok ok**\n",
    "\n",
    "Let's do a more complex query. \n",
    "\n",
    "<u>In the cell below:</u>\n",
    "1. Write a sql query that selects \n",
    "    - The ```Name``` column from the ```tracks``` table\n",
    "        - Alias this column as ```Song```\n",
    "    - The ```Title``` column from the ```albums``` table\n",
    "        - Alias this column as ```Album```\n",
    "    - The ```Name``` column from the ```artists``` table\n",
    "        - Alias this column as ```Artist```\n",
    "    - Use the ```WHERE``` command to only return results where ```Artist = 'U2'```\n",
    "    - ```LIMIT``` the results to 15 observations.\n",
    "        \n",
    "**Hint:** This will require you to first join the ```tracks``` and ```albums``` tables, and then join the ```artists``` table.\n",
    "\n",
    "We'll save the results of this query to the variable `df`"
   ]
  },
  {
   "cell_type": "code",
   "execution_count": 10,
   "metadata": {
    "ExecuteTime": {
     "end_time": "2020-05-20T17:48:31.630501Z",
     "start_time": "2020-05-20T17:48:31.476818Z"
    }
   },
   "outputs": [
    {
     "data": {
      "text/html": [
       "<div>\n",
       "<style scoped>\n",
       "    .dataframe tbody tr th:only-of-type {\n",
       "        vertical-align: middle;\n",
       "    }\n",
       "\n",
       "    .dataframe tbody tr th {\n",
       "        vertical-align: top;\n",
       "    }\n",
       "\n",
       "    .dataframe thead th {\n",
       "        text-align: right;\n",
       "    }\n",
       "</style>\n",
       "<table border=\"1\" class=\"dataframe\">\n",
       "  <thead>\n",
       "    <tr style=\"text-align: right;\">\n",
       "      <th></th>\n",
       "      <th>Song</th>\n",
       "      <th>Album</th>\n",
       "      <th>Artist</th>\n",
       "    </tr>\n",
       "  </thead>\n",
       "  <tbody>\n",
       "    <tr>\n",
       "      <td>0</td>\n",
       "      <td>Zoo Station</td>\n",
       "      <td>Achtung Baby</td>\n",
       "      <td>U2</td>\n",
       "    </tr>\n",
       "    <tr>\n",
       "      <td>1</td>\n",
       "      <td>Even Better Than The Real Thing</td>\n",
       "      <td>Achtung Baby</td>\n",
       "      <td>U2</td>\n",
       "    </tr>\n",
       "    <tr>\n",
       "      <td>2</td>\n",
       "      <td>One</td>\n",
       "      <td>Achtung Baby</td>\n",
       "      <td>U2</td>\n",
       "    </tr>\n",
       "    <tr>\n",
       "      <td>3</td>\n",
       "      <td>Until The End Of The World</td>\n",
       "      <td>Achtung Baby</td>\n",
       "      <td>U2</td>\n",
       "    </tr>\n",
       "    <tr>\n",
       "      <td>4</td>\n",
       "      <td>Who's Gonna Ride Your Wild Horses</td>\n",
       "      <td>Achtung Baby</td>\n",
       "      <td>U2</td>\n",
       "    </tr>\n",
       "  </tbody>\n",
       "</table>\n",
       "</div>"
      ],
      "text/plain": [
       "                                Song         Album Artist\n",
       "0                        Zoo Station  Achtung Baby     U2\n",
       "1    Even Better Than The Real Thing  Achtung Baby     U2\n",
       "2                                One  Achtung Baby     U2\n",
       "3         Until The End Of The World  Achtung Baby     U2\n",
       "4  Who's Gonna Ride Your Wild Horses  Achtung Baby     U2"
      ]
     },
     "execution_count": 10,
     "metadata": {},
     "output_type": "execute_result"
    }
   ],
   "source": [
    "# Your code here\n",
    "\n",
    "QUERY = \"\"\"\n",
    "SELECT t.Name AS Song, al.Title AS Album, ar.Name AS Artist\n",
    "FROM tracks t\n",
    "JOIN albums al\n",
    "ON t.Albumid = al.Albumid\n",
    "JOIN artists ar \n",
    "ON al.Artistid = ar.Artistid\n",
    "WHERE Artist = 'U2'\n",
    "LIMIT 15\n",
    "\"\"\"\n",
    "\n",
    "df = sql_df(QUERY, conn)\n",
    "df.head()"
   ]
  },
  {
   "cell_type": "markdown",
   "metadata": {},
   "source": [
    "Run the cell below to see if you returned the correct results!"
   ]
  },
  {
   "cell_type": "code",
   "execution_count": 11,
   "metadata": {
    "ExecuteTime": {
     "end_time": "2020-05-20T17:48:31.642239Z",
     "start_time": "2020-05-20T17:48:30.593Z"
    }
   },
   "outputs": [
    {
     "data": {
      "text/plain": [
       "'Hey, you did it.  Good job.'"
      ]
     },
     "execution_count": 11,
     "metadata": {},
     "output_type": "execute_result"
    }
   ],
   "source": [
    "run_test(df, 'query_to_df')"
   ]
  },
  {
   "cell_type": "markdown",
   "metadata": {},
   "source": [
    "<center><u>Our df variable is made up of a table with three columns</u></center>\n",
    "\n",
    "|Song|Album|Artist|\n",
    "|----|-----|------|\n",
    "|Name of<br>song|Name of<br>album|Name of<br>artist|\n",
    "\n",
    "-----\n",
    "\n",
    "**Let's collect the release date of each song using the [iTunes Search API](https://affiliate.itunes.apple.com/resources/documentation/itunes-store-web-service-search-api/) and add it as a column to our dataframe**\n",
    "\n",
    "To do this, we will use three paramaters. ```term```, ```entity```, and ```limit```.\n",
    "\n",
    "**term**\n",
    ">The iTunes API interprets this paramater the same way it iterprets a search term you would manually type when searching for songs on iTunes\n",
    "\n",
    "**entity**\n",
    ">This parameter is a filter for our search. We can filter our search to only return albums, music videos, etc. For this warmup we will be filtering our search to only return songs\n",
    "\n",
    "**limit**\n",
    ">The limit parameter determines how many search results are returned. The minimum is 50, the maximum is 200. For this warmup, we will set this to 200"
   ]
  },
  {
   "cell_type": "markdown",
   "metadata": {},
   "source": [
    "**The iTunes API only allows 20 requests per minute.**\n",
    "\n",
    "We could search each song individually with\n",
    "\n",
    "```\n",
    "req_string = 'https://itunes.apple.com/search?term={}&entity=song&limit=200'.format(song)\n",
    "requests.get(req_string).json()\n",
    "\n",
    "```\n",
    "\n",
    "But what if our code malfunctions? We risk sending too many requests, at which point the iTunes API will refuse our requests! We don't want that.\n",
    "\n",
    "*Fortunately for us*, we can collect the data we need with a single request.\n",
    "\n",
    "Instead of using the name of the song as our search term, we will use the name of the artist and keep our entity parameter as ```song``` so the results return individual songs created by the artist.\n",
    "\n",
    "<u>In the cell below:</u>\n",
    "1. Replace ```None``` with the variable needed to search the iTunes API for songs by the artist ```U2```"
   ]
  },
  {
   "cell_type": "code",
   "execution_count": null,
   "metadata": {
    "ExecuteTime": {
     "end_time": "2020-05-20T17:48:31.645231Z",
     "start_time": "2020-05-20T17:48:30.617Z"
    }
   },
   "outputs": [],
   "source": [
    "req_string = 'https://itunes.apple.com/search?term={}&entity=song&limit=200'.format(None)"
   ]
  },
  {
   "cell_type": "markdown",
   "metadata": {},
   "source": [
    "Run the cell below to see if your ```req_string``` variable is correct!"
   ]
  },
  {
   "cell_type": "code",
   "execution_count": 17,
   "metadata": {
    "ExecuteTime": {
     "end_time": "2020-05-20T17:48:31.647830Z",
     "start_time": "2020-05-20T17:48:30.629Z"
    }
   },
   "outputs": [],
   "source": [
    "run_test(req_string, 'req_string')"
   ]
  },
  {
   "cell_type": "markdown",
   "metadata": {},
   "source": [
    "Now that we have our req_string, we can send our request to the API using the ```requests``` library."
   ]
  },
  {
   "cell_type": "code",
   "execution_count": null,
   "metadata": {
    "ExecuteTime": {
     "end_time": "2020-05-20T17:48:31.650339Z",
     "start_time": "2020-05-20T17:48:30.643Z"
    }
   },
   "outputs": [],
   "source": [
    "req = requests.get(req_string).json()"
   ]
  },
  {
   "cell_type": "markdown",
   "metadata": {},
   "source": [
    "The data returned from the API is formatted as a ```json``` which for most intents and purposes is just a dictionary.\n",
    "\n",
    "The information we want from this json is found with the ```'results'``` key."
   ]
  },
  {
   "cell_type": "code",
   "execution_count": null,
   "metadata": {
    "ExecuteTime": {
     "end_time": "2020-05-20T17:48:31.652856Z",
     "start_time": "2020-05-20T17:48:30.656Z"
    }
   },
   "outputs": [],
   "source": [
    "api_data = req['results']\n",
    "type(api_data)"
   ]
  },
  {
   "cell_type": "markdown",
   "metadata": {},
   "source": [
    "<u>Ok ok! Now that we have our data from the api,</u> **Here's what we need to do:**\n",
    "\n",
    "![](https://media.giphy.com/media/LpkBAUDg53FI8xLmg1/giphy.gif)\n",
    "\n",
    "1. Create an empty list called ```dates```.\n",
    "2. Loop over the rows of our dataframe\n",
    "2. Collect the song name and artist name from the dataframe row.\n",
    "3. Loop over each result in ```api_data```.\n",
    "4. Check if:\n",
    "    - The song in our dataframe row is equal to ```result['trackName']``` \n",
    "    - The artist in our dataframe row is equal to  ```result['artistName']```\n",
    "5. If the song and artist match: \n",
    "    - Set the variable ```release_date``` to ```result['releaseDate']``` \n",
    "    - Append ```release_date``` to the ```dates``` list \n",
    "    - ```break``` out of the nested for loop.\n",
    "6. If the song and artist do not match:\n",
    "    - Set ```release_date``` to ```None```\n",
    "7. If the nested for loop completes and ```release_date``` still equals ```None```:\n",
    "    - Append ```None``` to the ```dates``` list.\n",
    "8. Add a ```release_date``` column to ```df``` using the ```dates``` list."
   ]
  },
  {
   "cell_type": "code",
   "execution_count": null,
   "metadata": {
    "ExecuteTime": {
     "end_time": "2020-05-20T17:48:31.655332Z",
     "start_time": "2020-05-20T17:48:30.670Z"
    }
   },
   "outputs": [],
   "source": [
    "dates = []\n",
    "# Your code here"
   ]
  },
  {
   "cell_type": "markdown",
   "metadata": {},
   "source": [
    "Let's take a look at the results"
   ]
  },
  {
   "cell_type": "code",
   "execution_count": null,
   "metadata": {
    "ExecuteTime": {
     "end_time": "2020-05-20T17:48:31.658564Z",
     "start_time": "2020-05-20T17:48:30.683Z"
    }
   },
   "outputs": [],
   "source": [
    "# Run this cell as is\n",
    "df"
   ]
  },
  {
   "cell_type": "markdown",
   "metadata": {},
   "source": [
    "Run the cell below to check if you collected the correct release dates!"
   ]
  },
  {
   "cell_type": "code",
   "execution_count": 27,
   "metadata": {
    "ExecuteTime": {
     "end_time": "2020-05-20T17:48:31.661972Z",
     "start_time": "2020-05-20T17:48:30.698Z"
    }
   },
   "outputs": [],
   "source": [
    "run_test(df, 'release_date')"
   ]
  },
  {
   "cell_type": "markdown",
   "metadata": {},
   "source": [
    "It looks like there are several ```None```'s in our ```release_date``` column. *And there is a reason for this.*\n",
    "\n",
    "The word ```the``` is capitalized in our Chinook database but is lowercased by the iTunes API.\n",
    "\n",
    "Run the cell below to see why this is a problem."
   ]
  },
  {
   "cell_type": "code",
   "execution_count": null,
   "metadata": {
    "ExecuteTime": {
     "end_time": "2020-05-20T17:48:31.664794Z",
     "start_time": "2020-05-20T17:48:30.711Z"
    }
   },
   "outputs": [],
   "source": [
    "'Even Better Than The Real Thing' == 'Even Better Than the Real Thing'"
   ]
  },
  {
   "cell_type": "markdown",
   "metadata": {},
   "source": [
    "Yikes! So how do we solve this? \n",
    "\n",
    "We can solve this by  ```lowering``` all strings when we compare them so no matter what, the strings are cased exactly the same."
   ]
  },
  {
   "cell_type": "code",
   "execution_count": null,
   "metadata": {
    "ExecuteTime": {
     "end_time": "2020-05-20T17:48:31.667530Z",
     "start_time": "2020-05-20T17:48:30.725Z"
    }
   },
   "outputs": [],
   "source": [
    "'Even Better Than The Real Thing'.lower() == 'Even Better Than the Real Thing'.lower()"
   ]
  },
  {
   "cell_type": "markdown",
   "metadata": {},
   "source": [
    "Copy and paste your code from above in the cell below, except this time lower all string values."
   ]
  },
  {
   "cell_type": "code",
   "execution_count": null,
   "metadata": {
    "ExecuteTime": {
     "end_time": "2020-05-20T17:48:31.670957Z",
     "start_time": "2020-05-20T17:48:30.737Z"
    }
   },
   "outputs": [],
   "source": [
    "# Your code here"
   ]
  },
  {
   "cell_type": "code",
   "execution_count": null,
   "metadata": {
    "ExecuteTime": {
     "end_time": "2020-05-20T17:48:31.674362Z",
     "start_time": "2020-05-20T17:48:30.741Z"
    }
   },
   "outputs": [],
   "source": [
    "# Run this cell as is\n",
    "df"
   ]
  },
  {
   "cell_type": "markdown",
   "metadata": {},
   "source": [
    "Run the cell below to see if you were successful!"
   ]
  },
  {
   "cell_type": "code",
   "execution_count": 33,
   "metadata": {
    "ExecuteTime": {
     "end_time": "2020-05-20T17:48:31.677172Z",
     "start_time": "2020-05-20T17:48:30.757Z"
    }
   },
   "outputs": [],
   "source": [
    "run_test(df, 'string_manip')"
   ]
  }
 ],
 "metadata": {
  "hide_input": false,
  "kernelspec": {
   "display_name": "Python 3",
   "language": "python",
   "name": "python3"
  },
  "language_info": {
   "codemirror_mode": {
    "name": "ipython",
    "version": 3
   },
   "file_extension": ".py",
   "mimetype": "text/x-python",
   "name": "python",
   "nbconvert_exporter": "python",
   "pygments_lexer": "ipython3",
   "version": "3.6.9"
  },
  "toc": {
   "base_numbering": 1,
   "nav_menu": {},
   "number_sections": false,
   "sideBar": true,
   "skip_h1_title": true,
   "title_cell": "Table of Contents",
   "title_sidebar": "Contents",
   "toc_cell": false,
   "toc_position": {},
   "toc_section_display": true,
   "toc_window_display": false
  },
  "varInspector": {
   "cols": {
    "lenName": 16,
    "lenType": 16,
    "lenVar": 40
   },
   "kernels_config": {
    "python": {
     "delete_cmd_postfix": "",
     "delete_cmd_prefix": "del ",
     "library": "var_list.py",
     "varRefreshCmd": "print(var_dic_list())"
    },
    "r": {
     "delete_cmd_postfix": ") ",
     "delete_cmd_prefix": "rm(",
     "library": "var_list.r",
     "varRefreshCmd": "cat(var_dic_list()) "
    }
   },
   "types_to_exclude": [
    "module",
    "function",
    "builtin_function_or_method",
    "instance",
    "_Feature"
   ],
   "window_display": false
  }
 },
 "nbformat": 4,
 "nbformat_minor": 4
}
